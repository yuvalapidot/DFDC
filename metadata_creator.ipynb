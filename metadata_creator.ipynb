{
 "cells": [
  {
   "cell_type": "code",
   "execution_count": 1,
   "metadata": {
    "pycharm": {
     "is_executing": false
    }
   },
   "outputs": [],
   "source": [
    "import json\n",
    "from os import listdir\n",
    "from os.path import isdir"
   ]
  },
  {
   "cell_type": "code",
   "execution_count": 2,
   "metadata": {
    "pycharm": {
     "is_executing": false
    }
   },
   "outputs": [],
   "source": [
    "def read_metadata(path):\n",
    "    metadata_file = open(path)\n",
    "    metadata = json.load(metadata_file)\n",
    "    metadata_file.close()\n",
    "    return metadata"
   ]
  },
  {
   "cell_type": "code",
   "execution_count": 3,
   "outputs": [],
   "source": [
    "def write_metadata(metadata, path):\n",
    "    with open(path, 'w') as output:\n",
    "        json.dump(metadata, output)"
   ],
   "metadata": {
    "collapsed": false,
    "pycharm": {
     "name": "#%%\n",
     "is_executing": false
    }
   }
  },
  {
   "cell_type": "code",
   "execution_count": 4,
   "metadata": {
    "pycharm": {
     "is_executing": false
    }
   },
   "outputs": [],
   "source": [
    "def process_dir_metadata(metadata, dir):\n",
    "    for video_name, info in metadata.items():\n",
    "        info['dir'] = dir\n",
    "        if info['label'] == 'FAKE':\n",
    "            original_info = metadata[info['original']]\n",
    "            if 'fakes' not in original_info:\n",
    "                original_info['fakes'] = []\n",
    "            original_info['fakes'].append(video_name)\n",
    "    return metadata"
   ]
  },
  {
   "cell_type": "code",
   "execution_count": 5,
   "metadata": {
    "pycharm": {
     "is_executing": false
    }
   },
   "outputs": [],
   "source": [
    "dir = \"D:\\\\Projects\\\\DFDC\\\\Data\\\\\"\n",
    "metadata_file_name = 'metadata.json'\n",
    "\n",
    "global_metadata = {}\n",
    "\n",
    "for f in listdir(dir):\n",
    "    if isdir(dir + f):\n",
    "        metadata = read_metadata(\"{}{}\\\\{}\".format(dir, f, metadata_file_name))\n",
    "        metadata = process_dir_metadata(metadata, f)\n",
    "        global_metadata.update(metadata)"
   ]
  },
  {
   "cell_type": "code",
   "execution_count": 6,
   "metadata": {
    "pycharm": {
     "is_executing": false
    }
   },
   "outputs": [],
   "source": [
    "write_metadata(global_metadata, dir + metadata_file_name)"
   ]
  }
 ],
 "metadata": {
  "kernelspec": {
   "display_name": "DFDC",
   "language": "python",
   "name": "dfdc"
  },
  "language_info": {
   "codemirror_mode": {
    "name": "ipython",
    "version": 3
   },
   "file_extension": ".py",
   "mimetype": "text/x-python",
   "name": "python",
   "nbconvert_exporter": "python",
   "pygments_lexer": "ipython3",
   "version": "3.7.6"
  },
  "pycharm": {
   "stem_cell": {
    "cell_type": "raw",
    "source": [],
    "metadata": {
     "collapsed": false
    }
   }
  }
 },
 "nbformat": 4,
 "nbformat_minor": 4
}